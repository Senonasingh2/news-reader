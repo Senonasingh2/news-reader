{
 "cells": [
  {
   "cell_type": "code",
   "execution_count": 26,
   "id": "254021f2",
   "metadata": {},
   "outputs": [
    {
     "name": "stdout",
     "output_type": "stream",
     "text": [
      "1 UK PM Starmer issues warning to far-right protesters: 'You will regret your actions' - The Times of India\n",
      "2 Yemen’s Houthis claim first attack on container ship in two weeks - Al Jazeera English\n",
      "3 Delhi Police Arrests Parsvanath Landmark CEO Sanjeev Jain From Delhi Airport After Chasing Him For 60 Km - News18\n"
     ]
    },
    {
     "ename": "KeyboardInterrupt",
     "evalue": "",
     "output_type": "error",
     "traceback": [
      "\u001b[1;31m---------------------------------------------------------------------------\u001b[0m",
      "\u001b[1;31mKeyboardInterrupt\u001b[0m                         Traceback (most recent call last)",
      "Cell \u001b[1;32mIn[26], line 18\u001b[0m\n\u001b[0;32m     16\u001b[0m \u001b[38;5;28;01mfor\u001b[39;00m article \u001b[38;5;129;01min\u001b[39;00m articles:\n\u001b[0;32m     17\u001b[0m     articles_list\u001b[38;5;241m.\u001b[39mappend(article[\u001b[38;5;124m\"\u001b[39m\u001b[38;5;124mtitle\u001b[39m\u001b[38;5;124m\"\u001b[39m])\n\u001b[1;32m---> 18\u001b[0m speak_news(articles_list)\n",
      "Cell \u001b[1;32mIn[26], line 10\u001b[0m, in \u001b[0;36mspeak_news\u001b[1;34m(articles)\u001b[0m\n\u001b[0;32m      8\u001b[0m article\u001b[38;5;241m=\u001b[39m(i\u001b[38;5;241m+\u001b[39m\u001b[38;5;241m1\u001b[39m,articles[i])\n\u001b[0;32m      9\u001b[0m \u001b[38;5;28mprint\u001b[39m(i\u001b[38;5;241m+\u001b[39m\u001b[38;5;241m1\u001b[39m,articles[i])\n\u001b[1;32m---> 10\u001b[0m speak\u001b[38;5;241m.\u001b[39mSpeak(article)\n",
      "File \u001b[1;32m<COMObject SAPI.SpVoice>:2\u001b[0m, in \u001b[0;36mSpeak\u001b[1;34m(self, Text, Flags)\u001b[0m\n",
      "\u001b[1;31mKeyboardInterrupt\u001b[0m: "
     ]
    }
   ],
   "source": [
    "import requests\n",
    "import json\n",
    "from win32com.client import Dispatch\n",
    "\n",
    "def speak_news(articles):\n",
    "    speak=Dispatch('SAPI.SpVoice')\n",
    "    for i in range(len(articles)):\n",
    "        article=(i+1,articles[i])\n",
    "        print(i+1,articles[i])\n",
    "        speak.Speak(article)\n",
    "        \n",
    "news=requests.get(\"https://newsapi.org/v2/top-headlines?country=in&apiKey=6e8e893441524fbdae3996f9eea8846a\")\n",
    "json_news=news.json()\n",
    "articles = json_news[\"articles\"]\n",
    "articles_list = []\n",
    "for article in articles:\n",
    "    articles_list.append(article[\"title\"])\n",
    "speak_news(articles_list)"
   ]
  },
  {
   "cell_type": "code",
   "execution_count": null,
   "id": "1de15de0",
   "metadata": {},
   "outputs": [],
   "source": [
    "\n"
   ]
  },
  {
   "cell_type": "code",
   "execution_count": null,
   "id": "71f09e54",
   "metadata": {},
   "outputs": [],
   "source": []
  },
  {
   "cell_type": "code",
   "execution_count": null,
   "id": "740f6624",
   "metadata": {},
   "outputs": [],
   "source": []
  },
  {
   "cell_type": "code",
   "execution_count": null,
   "id": "a2e11096",
   "metadata": {},
   "outputs": [],
   "source": []
  }
 ],
 "metadata": {
  "kernelspec": {
   "display_name": "Python 3 (ipykernel)",
   "language": "python",
   "name": "python3"
  },
  "language_info": {
   "codemirror_mode": {
    "name": "ipython",
    "version": 3
   },
   "file_extension": ".py",
   "mimetype": "text/x-python",
   "name": "python",
   "nbconvert_exporter": "python",
   "pygments_lexer": "ipython3",
   "version": "3.11.5"
  }
 },
 "nbformat": 4,
 "nbformat_minor": 5
}
